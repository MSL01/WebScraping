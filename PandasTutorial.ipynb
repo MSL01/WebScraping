{
 "cells": [
  {
   "cell_type": "markdown",
   "source": [
    "Tutorial: Introducción a la librería Pandas y el uso de\n",
    "archivos de Valores Separados por Comas (CSV)\n",
    "\n",
    "El siguiente es un breve tutorial acerca del uso de la librería Pandas\n",
    "para el manejo de archivos .csv en Python. Para este, se hará uso de\n",
    "Python3 y Pandas en sus últimas versiones estables.\n",
    "\n",
    "Para saber más, puede visitar la documentación oficial https://pandas.pydata.org/"
   ],
   "metadata": {
    "collapsed": false
   }
  },
  {
   "cell_type": "code",
   "execution_count": null,
   "outputs": [],
   "source": [
    "import pandas as pd\n",
    "\n",
    "personas = {'Nombre': ['Carlos', 'Maria', 'Pedro', 'Clara'],\n",
    "            'Edad': [25, 20, 31, 27],\n",
    "            'Ciudad': ['Bogota', 'Pereira', 'Armenia', 'Medellin'],\n",
    "            'Estatura': [1.72, 1.65, 1.78, 1.67] }\n",
    "\n",
    "df = pd.DataFrame(personas)"
   ],
   "metadata": {
    "collapsed": false,
    "pycharm": {
     "is_executing": true
    }
   }
  },
  {
   "cell_type": "code",
   "execution_count": 3,
   "outputs": [
    {
     "data": {
      "text/plain": "   Nombre  Edad    Ciudad  Estatura\n0  Carlos    25    Bogota      1.72\n1   Maria    20   Pereira      1.65\n2   Pedro    31   Armenia      1.78\n3   Clara    27  Medellin      1.67",
      "text/html": "<div>\n<style scoped>\n    .dataframe tbody tr th:only-of-type {\n        vertical-align: middle;\n    }\n\n    .dataframe tbody tr th {\n        vertical-align: top;\n    }\n\n    .dataframe thead th {\n        text-align: right;\n    }\n</style>\n<table border=\"1\" class=\"dataframe\">\n  <thead>\n    <tr style=\"text-align: right;\">\n      <th></th>\n      <th>Nombre</th>\n      <th>Edad</th>\n      <th>Ciudad</th>\n      <th>Estatura</th>\n    </tr>\n  </thead>\n  <tbody>\n    <tr>\n      <th>0</th>\n      <td>Carlos</td>\n      <td>25</td>\n      <td>Bogota</td>\n      <td>1.72</td>\n    </tr>\n    <tr>\n      <th>1</th>\n      <td>Maria</td>\n      <td>20</td>\n      <td>Pereira</td>\n      <td>1.65</td>\n    </tr>\n    <tr>\n      <th>2</th>\n      <td>Pedro</td>\n      <td>31</td>\n      <td>Armenia</td>\n      <td>1.78</td>\n    </tr>\n    <tr>\n      <th>3</th>\n      <td>Clara</td>\n      <td>27</td>\n      <td>Medellin</td>\n      <td>1.67</td>\n    </tr>\n  </tbody>\n</table>\n</div>"
     },
     "execution_count": 3,
     "metadata": {},
     "output_type": "execute_result"
    }
   ],
   "source": [
    "df"
   ],
   "metadata": {
    "collapsed": false
   }
  },
  {
   "cell_type": "code",
   "execution_count": 4,
   "outputs": [
    {
     "data": {
      "text/plain": "(4, 4)"
     },
     "execution_count": 4,
     "metadata": {},
     "output_type": "execute_result"
    }
   ],
   "source": [
    "df.shape"
   ],
   "metadata": {
    "collapsed": false
   }
  },
  {
   "cell_type": "code",
   "execution_count": 5,
   "outputs": [
    {
     "name": "stdout",
     "output_type": "stream",
     "text": [
      "<class 'pandas.core.frame.DataFrame'>\n",
      "RangeIndex: 4 entries, 0 to 3\n",
      "Data columns (total 4 columns):\n",
      " #   Column    Non-Null Count  Dtype  \n",
      "---  ------    --------------  -----  \n",
      " 0   Nombre    4 non-null      object \n",
      " 1   Edad      4 non-null      int64  \n",
      " 2   Ciudad    4 non-null      object \n",
      " 3   Estatura  4 non-null      float64\n",
      "dtypes: float64(1), int64(1), object(2)\n",
      "memory usage: 256.0+ bytes\n"
     ]
    }
   ],
   "source": [
    "df.info()"
   ],
   "metadata": {
    "collapsed": false
   }
  },
  {
   "cell_type": "code",
   "execution_count": 6,
   "outputs": [
    {
     "data": {
      "text/plain": "            Edad  Estatura\ncount   4.000000  4.000000\nmean   25.750000  1.705000\nstd     4.573474  0.058023\nmin    20.000000  1.650000\n25%    23.750000  1.665000\n50%    26.000000  1.695000\n75%    28.000000  1.735000\nmax    31.000000  1.780000",
      "text/html": "<div>\n<style scoped>\n    .dataframe tbody tr th:only-of-type {\n        vertical-align: middle;\n    }\n\n    .dataframe tbody tr th {\n        vertical-align: top;\n    }\n\n    .dataframe thead th {\n        text-align: right;\n    }\n</style>\n<table border=\"1\" class=\"dataframe\">\n  <thead>\n    <tr style=\"text-align: right;\">\n      <th></th>\n      <th>Edad</th>\n      <th>Estatura</th>\n    </tr>\n  </thead>\n  <tbody>\n    <tr>\n      <th>count</th>\n      <td>4.000000</td>\n      <td>4.000000</td>\n    </tr>\n    <tr>\n      <th>mean</th>\n      <td>25.750000</td>\n      <td>1.705000</td>\n    </tr>\n    <tr>\n      <th>std</th>\n      <td>4.573474</td>\n      <td>0.058023</td>\n    </tr>\n    <tr>\n      <th>min</th>\n      <td>20.000000</td>\n      <td>1.650000</td>\n    </tr>\n    <tr>\n      <th>25%</th>\n      <td>23.750000</td>\n      <td>1.665000</td>\n    </tr>\n    <tr>\n      <th>50%</th>\n      <td>26.000000</td>\n      <td>1.695000</td>\n    </tr>\n    <tr>\n      <th>75%</th>\n      <td>28.000000</td>\n      <td>1.735000</td>\n    </tr>\n    <tr>\n      <th>max</th>\n      <td>31.000000</td>\n      <td>1.780000</td>\n    </tr>\n  </tbody>\n</table>\n</div>"
     },
     "execution_count": 6,
     "metadata": {},
     "output_type": "execute_result"
    }
   ],
   "source": [
    "df.describe()"
   ],
   "metadata": {
    "collapsed": false
   }
  },
  {
   "cell_type": "code",
   "execution_count": 7,
   "outputs": [],
   "source": [
    "df_filtered = df[df['Edad'] > 25]"
   ],
   "metadata": {
    "collapsed": false
   }
  },
  {
   "cell_type": "code",
   "execution_count": 8,
   "outputs": [
    {
     "data": {
      "text/plain": "  Nombre  Edad    Ciudad  Estatura\n2  Pedro    31   Armenia      1.78\n3  Clara    27  Medellin      1.67",
      "text/html": "<div>\n<style scoped>\n    .dataframe tbody tr th:only-of-type {\n        vertical-align: middle;\n    }\n\n    .dataframe tbody tr th {\n        vertical-align: top;\n    }\n\n    .dataframe thead th {\n        text-align: right;\n    }\n</style>\n<table border=\"1\" class=\"dataframe\">\n  <thead>\n    <tr style=\"text-align: right;\">\n      <th></th>\n      <th>Nombre</th>\n      <th>Edad</th>\n      <th>Ciudad</th>\n      <th>Estatura</th>\n    </tr>\n  </thead>\n  <tbody>\n    <tr>\n      <th>2</th>\n      <td>Pedro</td>\n      <td>31</td>\n      <td>Armenia</td>\n      <td>1.78</td>\n    </tr>\n    <tr>\n      <th>3</th>\n      <td>Clara</td>\n      <td>27</td>\n      <td>Medellin</td>\n      <td>1.67</td>\n    </tr>\n  </tbody>\n</table>\n</div>"
     },
     "execution_count": 8,
     "metadata": {},
     "output_type": "execute_result"
    }
   ],
   "source": [
    "df_filtered"
   ],
   "metadata": {
    "collapsed": false
   }
  },
  {
   "cell_type": "code",
   "execution_count": 9,
   "outputs": [],
   "source": [
    "df_selected = df.loc[0:2, ['Nombre', 'Edad']]"
   ],
   "metadata": {
    "collapsed": false
   }
  },
  {
   "cell_type": "code",
   "execution_count": 10,
   "outputs": [
    {
     "data": {
      "text/plain": "   Nombre  Edad\n0  Carlos    25\n1   Maria    20\n2   Pedro    31",
      "text/html": "<div>\n<style scoped>\n    .dataframe tbody tr th:only-of-type {\n        vertical-align: middle;\n    }\n\n    .dataframe tbody tr th {\n        vertical-align: top;\n    }\n\n    .dataframe thead th {\n        text-align: right;\n    }\n</style>\n<table border=\"1\" class=\"dataframe\">\n  <thead>\n    <tr style=\"text-align: right;\">\n      <th></th>\n      <th>Nombre</th>\n      <th>Edad</th>\n    </tr>\n  </thead>\n  <tbody>\n    <tr>\n      <th>0</th>\n      <td>Carlos</td>\n      <td>25</td>\n    </tr>\n    <tr>\n      <th>1</th>\n      <td>Maria</td>\n      <td>20</td>\n    </tr>\n    <tr>\n      <th>2</th>\n      <td>Pedro</td>\n      <td>31</td>\n    </tr>\n  </tbody>\n</table>\n</div>"
     },
     "execution_count": 10,
     "metadata": {},
     "output_type": "execute_result"
    }
   ],
   "source": [
    "df_selected"
   ],
   "metadata": {
    "collapsed": false
   }
  },
  {
   "cell_type": "code",
   "execution_count": 11,
   "outputs": [],
   "source": [
    "df_sorted = df.sort_values('Edad')"
   ],
   "metadata": {
    "collapsed": false
   }
  },
  {
   "cell_type": "code",
   "execution_count": 12,
   "outputs": [
    {
     "data": {
      "text/plain": "   Nombre  Edad    Ciudad  Estatura\n1   Maria    20   Pereira      1.65\n0  Carlos    25    Bogota      1.72\n3   Clara    27  Medellin      1.67\n2   Pedro    31   Armenia      1.78",
      "text/html": "<div>\n<style scoped>\n    .dataframe tbody tr th:only-of-type {\n        vertical-align: middle;\n    }\n\n    .dataframe tbody tr th {\n        vertical-align: top;\n    }\n\n    .dataframe thead th {\n        text-align: right;\n    }\n</style>\n<table border=\"1\" class=\"dataframe\">\n  <thead>\n    <tr style=\"text-align: right;\">\n      <th></th>\n      <th>Nombre</th>\n      <th>Edad</th>\n      <th>Ciudad</th>\n      <th>Estatura</th>\n    </tr>\n  </thead>\n  <tbody>\n    <tr>\n      <th>1</th>\n      <td>Maria</td>\n      <td>20</td>\n      <td>Pereira</td>\n      <td>1.65</td>\n    </tr>\n    <tr>\n      <th>0</th>\n      <td>Carlos</td>\n      <td>25</td>\n      <td>Bogota</td>\n      <td>1.72</td>\n    </tr>\n    <tr>\n      <th>3</th>\n      <td>Clara</td>\n      <td>27</td>\n      <td>Medellin</td>\n      <td>1.67</td>\n    </tr>\n    <tr>\n      <th>2</th>\n      <td>Pedro</td>\n      <td>31</td>\n      <td>Armenia</td>\n      <td>1.78</td>\n    </tr>\n  </tbody>\n</table>\n</div>"
     },
     "execution_count": 12,
     "metadata": {},
     "output_type": "execute_result"
    }
   ],
   "source": [
    "df_sorted"
   ],
   "metadata": {
    "collapsed": false
   }
  },
  {
   "cell_type": "code",
   "execution_count": 13,
   "outputs": [],
   "source": [
    "df.to_csv('datos.csv')"
   ],
   "metadata": {
    "collapsed": false
   }
  },
  {
   "cell_type": "code",
   "execution_count": 14,
   "outputs": [],
   "source": [
    "personas2 = pd.read_csv('datos.csv')"
   ],
   "metadata": {
    "collapsed": false
   }
  },
  {
   "cell_type": "markdown",
   "source": [],
   "metadata": {
    "collapsed": false
   }
  },
  {
   "cell_type": "code",
   "execution_count": 1,
   "outputs": [],
   "source": [
    "class Persona:\n",
    "    def __init__(self, nombre, edad, genero):\n",
    "        self.nombre = nombre\n",
    "        self.edad = edad\n",
    "        self.genero = genero\n",
    "\n",
    "    def hablar(self, mensaje):\n",
    "        print(f\"{self.nombre} dice: {mensaje}\")\n",
    "\n",
    "    def caminar(self, distancia):\n",
    "        print(f\"{self.nombre} caminó {distancia} metros\")"
   ],
   "metadata": {
    "collapsed": false
   }
  },
  {
   "cell_type": "code",
   "execution_count": 2,
   "outputs": [],
   "source": [
    "juan = Persona(\"Juan\", 30, \"masculino\")"
   ],
   "metadata": {
    "collapsed": false
   }
  },
  {
   "cell_type": "code",
   "execution_count": 3,
   "outputs": [
    {
     "name": "stdout",
     "output_type": "stream",
     "text": [
      "Juan\n",
      "Juan dice: Hola\n",
      "Juan caminó 10 metros\n"
     ]
    }
   ],
   "source": [
    "print(juan.nombre)\n",
    "juan.hablar(\"Hola\")\n",
    "juan.caminar(10)"
   ],
   "metadata": {
    "collapsed": false
   }
  },
  {
   "cell_type": "code",
   "execution_count": 1,
   "outputs": [],
   "source": [
    "import requests\n",
    "from bs4 import BeautifulSoup\n",
    "\n",
    "url = \"https://www.nytimes.com/section/world\"\n",
    "\n",
    "# Hacemos una solicitud HTTP GET a la página web\n",
    "response = requests.get(url)\n",
    "\n",
    "# Analizamos el contenido HTML de la página web usando Beautiful Soup\n",
    "soup = BeautifulSoup(response.content, 'html.parser')\n",
    "\n",
    "# Encontramos los elementos HTML que contienen los títulos de las noticias\n",
    "headlines = soup.find_all('h2', class_='css-1j9dxys e1xfvim30')\n",
    "\n",
    "# Imprimimos los títulos de las noticias\n",
    "for headline in headlines:\n",
    "    print(headline.text.strip())\n"
   ],
   "metadata": {
    "collapsed": false
   }
  }
 ],
 "metadata": {
  "kernelspec": {
   "display_name": "Python 3",
   "language": "python",
   "name": "python3"
  },
  "language_info": {
   "codemirror_mode": {
    "name": "ipython",
    "version": 2
   },
   "file_extension": ".py",
   "mimetype": "text/x-python",
   "name": "python",
   "nbconvert_exporter": "python",
   "pygments_lexer": "ipython2",
   "version": "2.7.6"
  }
 },
 "nbformat": 4,
 "nbformat_minor": 0
}
